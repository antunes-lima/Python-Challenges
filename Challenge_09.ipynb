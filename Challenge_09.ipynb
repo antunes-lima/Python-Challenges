{
  "cells": [
    {
      "cell_type": "markdown",
      "metadata": {
        "id": "HpvTpUBGf6Jr"
      },
      "source": [
        "### Challenge 9\n",
        "\n",
        "Write a function that returns the sum of multiples of 3 and 5 between 0 and a limit number, which will be used as a parameter. \\\n",
        "For example, if the limit is 20, it will return the sum of 3, 5, 6, 9, 10, 12, 15, 18, 20."
      ]
    },
    {
      "cell_type": "code",
      "execution_count": 9,
      "metadata": {
        "colab": {
          "base_uri": "https://localhost:8080/"
        },
        "id": "195C6bw-f6Js",
        "outputId": "7cf3f374-4cc6-40ae-9e0c-fa56f5bedf86"
      },
      "outputs": [
        {
          "output_type": "stream",
          "name": "stdout",
          "text": [
            "The chosen limit is:\n",
            "20\n"
          ]
        }
      ],
      "source": [
        "# Code\n",
        "\n",
        "# chosen limit\n",
        "limit = 20\n",
        "\n",
        "print('The chosen limit is:')\n",
        "print(limit)"
      ]
    },
    {
      "cell_type": "code",
      "execution_count": 8,
      "metadata": {
        "colab": {
          "base_uri": "https://localhost:8080/"
        },
        "id": "a_6aqcKp6wrN",
        "outputId": "7c6c092a-e6ea-49a2-a8fc-e98b0ce9af23"
      },
      "outputs": [
        {
          "output_type": "stream",
          "name": "stdout",
          "text": [
            "The numbers to sum are:\n",
            "[0, 3, 5, 6, 9, 10, 12, 15, 18, 20]\n"
          ]
        }
      ],
      "source": [
        "to_sum = list()\n",
        "\n",
        "# selecting the numbers multiple of 3 and 5\n",
        "for n in range(limit + 1):\n",
        "  if n % 3 == 0 or n % 5 == 0:\n",
        "    to_sum.append(n)\n",
        "\n",
        "print('The numbers to sum are:')\n",
        "print(to_sum)"
      ]
    },
    {
      "cell_type": "code",
      "source": [
        "print('The sum of the multiples between 0 and limit is:')\n",
        "print(sum(to_sum))"
      ],
      "metadata": {
        "id": "V53vnotn_ki6",
        "outputId": "c2e08529-a545-4e40-c6af-ba0f60e87310",
        "colab": {
          "base_uri": "https://localhost:8080/"
        }
      },
      "execution_count": 7,
      "outputs": [
        {
          "output_type": "stream",
          "name": "stdout",
          "text": [
            "The sum of the multiples between 0 and limit is:\n",
            "98\n"
          ]
        }
      ]
    }
  ],
  "metadata": {
    "anaconda-cloud": {},
    "colab": {
      "name": "Desafio 9.ipynb",
      "provenance": []
    },
    "kernelspec": {
      "display_name": "Python 3",
      "language": "python",
      "name": "python3"
    },
    "language_info": {
      "codemirror_mode": {
        "name": "ipython",
        "version": 3
      },
      "file_extension": ".py",
      "mimetype": "text/x-python",
      "name": "python",
      "nbconvert_exporter": "python",
      "pygments_lexer": "ipython3",
      "version": "3.7.9"
    }
  },
  "nbformat": 4,
  "nbformat_minor": 0
}