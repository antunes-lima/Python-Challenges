{
  "cells": [
    {
      "cell_type": "markdown",
      "metadata": {
        "id": "view-in-github",
        "colab_type": "text"
      },
      "source": [
        "<a href=\"https://colab.research.google.com/github/antunes-lima/Python-Challenges/blob/master/Desafio_08%20PAREI%20AQUI.ipynb\" target=\"_parent\"><img src=\"https://colab.research.google.com/assets/colab-badge.svg\" alt=\"Open In Colab\"/></a>"
      ]
    },
    {
      "cell_type": "markdown",
      "metadata": {
        "id": "o3tkeMDNf6Jo"
      },
      "source": [
        "### Challenge 8\n",
        "\n",
        "Write a Python script to find the 10 longest words in a text file.\n",
        "\n",
        "The .txt file is located in the same folder as the project (**texto.txt**)."
      ]
    },
    {
      "cell_type": "code",
      "source": [
        "# Importing the .txt file from github\n",
        "\n",
        "!curl --remote-name \\\n",
        "     -H 'Accept: application/vnd.github.v3.raw' \\\n",
        "     --location https://raw.githubusercontent.com/antunes-lima/Python-Challenges/master/texto.txt"
      ],
      "metadata": {
        "id": "DRNo009_PCcR",
        "outputId": "30defdff-affb-4423-bbc6-569048ae71f8",
        "colab": {
          "base_uri": "https://localhost:8080/"
        }
      },
      "execution_count": 11,
      "outputs": [
        {
          "output_type": "stream",
          "name": "stdout",
          "text": [
            "  % Total    % Received % Xferd  Average Speed   Time    Time     Time  Current\n",
            "                                 Dload  Upload   Total   Spent    Left  Speed\n",
            "\r  0     0    0     0    0     0      0      0 --:--:-- --:--:-- --:--:--     0\r100   766  100   766    0     0  10213      0 --:--:-- --:--:-- --:--:-- 10213\n"
          ]
        }
      ]
    },
    {
      "cell_type": "code",
      "execution_count": 35,
      "metadata": {
        "id": "EknxjSG0f6Jo"
      },
      "outputs": [],
      "source": [
        "# Code\n",
        "\n",
        "text = open('/content/texto.txt', 'r')\n",
        "\n",
        "text = text.read()"
      ]
    },
    {
      "cell_type": "code",
      "source": [
        "# removing comma, period, parentheses, question mark\n",
        "\n",
        "text = text.replace(',', ' ').replace('.', ' ').replace('(', ' ').replace(')', ' ').replace('?', ' ').replace('-', ' ')\n",
        "\n",
        "text = text.split()"
      ],
      "metadata": {
        "id": "VlMtmvKYeSy3"
      },
      "execution_count": 36,
      "outputs": []
    },
    {
      "cell_type": "code",
      "source": [
        "print(text)"
      ],
      "metadata": {
        "id": "c99mktWbf0DC",
        "outputId": "5707a92a-b0be-4739-a31d-3384b1c18bad",
        "colab": {
          "base_uri": "https://localhost:8080/"
        }
      },
      "execution_count": 46,
      "outputs": [
        {
          "output_type": "stream",
          "name": "stdout",
          "text": [
            "['What', 'is', 'Python', 'language', 'Python', 'is', 'a', 'widely', 'used', 'high', 'level', 'general', 'purpose', 'interpreted', 'dynamic', 'programming', 'language', 'Its', 'design', 'philosophy', 'emphasizes', 'code', 'readability', 'and', 'its', 'syntax', 'allows', 'programmers', 'to', 'express', 'concepts', 'in', 'fewer', 'lines', 'of', 'code', 'than', 'possible', 'in', 'languages', 'such', 'as', 'C++', 'or', 'Java', 'Python', 'supports', 'multiple', 'programming', 'paradigms', 'including', 'object', 'oriented', 'imperative', 'and', 'functional', 'programming', 'or', 'procedural', 'styles', 'It', 'features', 'a', 'dynamic', 'type', 'system', 'and', 'automatic', 'memory', 'management', 'and', 'has', 'a', 'large', 'and', 'comprehensive', 'standard', 'library', 'The', 'best', 'way', 'we', 'learn', 'anything', 'is', 'by', 'practice', 'and', 'exercise', 'questions', 'We', 'have', 'started', 'this', 'section', 'for', 'those', 'beginner', 'to', 'intermediate', 'who', 'are', 'familiar', 'with', 'Python']\n"
          ]
        }
      ]
    },
    {
      "cell_type": "code",
      "source": [
        "# creating a dict with words and respective lenght\n",
        "\n",
        "words_lenght = dict()\n",
        "\n",
        "for word in text:\n",
        "  words_lenght[word] = len(word)\n",
        "\n",
        "print(words_lenght)"
      ],
      "metadata": {
        "id": "WGZ0bkmdcU_d",
        "outputId": "9b7f91ca-333e-4272-94e1-504e704e6a87",
        "colab": {
          "base_uri": "https://localhost:8080/"
        }
      },
      "execution_count": 50,
      "outputs": [
        {
          "output_type": "stream",
          "name": "stdout",
          "text": [
            "{'What': 4, 'is': 2, 'Python': 6, 'language': 8, 'a': 1, 'widely': 6, 'used': 4, 'high': 4, 'level': 5, 'general': 7, 'purpose': 7, 'interpreted': 11, 'dynamic': 7, 'programming': 11, 'Its': 3, 'design': 6, 'philosophy': 10, 'emphasizes': 10, 'code': 4, 'readability': 11, 'and': 3, 'its': 3, 'syntax': 6, 'allows': 6, 'programmers': 11, 'to': 2, 'express': 7, 'concepts': 8, 'in': 2, 'fewer': 5, 'lines': 5, 'of': 2, 'than': 4, 'possible': 8, 'languages': 9, 'such': 4, 'as': 2, 'C++': 3, 'or': 2, 'Java': 4, 'supports': 8, 'multiple': 8, 'paradigms': 9, 'including': 9, 'object': 6, 'oriented': 8, 'imperative': 10, 'functional': 10, 'procedural': 10, 'styles': 6, 'It': 2, 'features': 8, 'type': 4, 'system': 6, 'automatic': 9, 'memory': 6, 'management': 10, 'has': 3, 'large': 5, 'comprehensive': 13, 'standard': 8, 'library': 7, 'The': 3, 'best': 4, 'way': 3, 'we': 2, 'learn': 5, 'anything': 8, 'by': 2, 'practice': 8, 'exercise': 8, 'questions': 9, 'We': 2, 'have': 4, 'started': 7, 'this': 4, 'section': 7, 'for': 3, 'those': 5, 'beginner': 8, 'intermediate': 12, 'who': 3, 'are': 3, 'familiar': 8, 'with': 4}\n"
          ]
        }
      ]
    },
    {
      "cell_type": "code",
      "source": [
        "# getting the 10 longest words\n",
        "\n",
        "c = 0\n",
        "longest_words = dict()\n",
        "\n",
        "while c <= 10:\n",
        "  max"
      ],
      "metadata": {
        "id": "Zs7kHnP4gi8m",
        "outputId": "fb6a7e5f-93f9-436c-ee91-b5437f8e0eb2",
        "colab": {
          "base_uri": "https://localhost:8080/",
          "height": 133
        }
      },
      "execution_count": 49,
      "outputs": [
        {
          "output_type": "error",
          "ename": "SyntaxError",
          "evalue": "ignored",
          "traceback": [
            "\u001b[0;36m  File \u001b[0;32m\"<ipython-input-49-23ce18b10a14>\"\u001b[0;36m, line \u001b[0;32m7\u001b[0m\n\u001b[0;31m    \u001b[0m\n\u001b[0m    ^\u001b[0m\n\u001b[0;31mSyntaxError\u001b[0m\u001b[0;31m:\u001b[0m unexpected EOF while parsing\n"
          ]
        }
      ]
    },
    {
      "cell_type": "code",
      "source": [
        ""
      ],
      "metadata": {
        "id": "1cyiazn0gxIS"
      },
      "execution_count": null,
      "outputs": []
    }
  ],
  "metadata": {
    "anaconda-cloud": {},
    "colab": {
      "name": "Desafio 8.ipynb",
      "provenance": [],
      "include_colab_link": true
    },
    "kernelspec": {
      "display_name": "Python 3",
      "language": "python",
      "name": "python3"
    },
    "language_info": {
      "codemirror_mode": {
        "name": "ipython",
        "version": 3
      },
      "file_extension": ".py",
      "mimetype": "text/x-python",
      "name": "python",
      "nbconvert_exporter": "python",
      "pygments_lexer": "ipython3",
      "version": "3.7.9"
    }
  },
  "nbformat": 4,
  "nbformat_minor": 0
}